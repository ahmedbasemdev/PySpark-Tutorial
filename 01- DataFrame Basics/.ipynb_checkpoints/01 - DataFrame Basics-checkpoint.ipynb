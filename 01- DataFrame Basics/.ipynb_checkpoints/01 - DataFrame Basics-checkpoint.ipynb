{
 "cells": [
  {
   "cell_type": "markdown",
   "id": "d546f6e1",
   "metadata": {},
   "source": [
    "in order to work with spark dataframe we first need to start a spark Session"
   ]
  },
  {
   "cell_type": "code",
   "execution_count": null,
   "id": "3a5380f4",
   "metadata": {},
   "outputs": [],
   "source": [
    "from pyspark.sql import SparkSession"
   ]
  },
  {
   "cell_type": "code",
   "execution_count": null,
   "id": "b0caf515",
   "metadata": {},
   "outputs": [],
   "source": [
    "# let's start The Session\n",
    "spark = SparkSession.builder.appName(\"spark\").getOrCreate()"
   ]
  },
  {
   "cell_type": "code",
   "execution_count": null,
   "id": "190f6c39",
   "metadata": {},
   "outputs": [],
   "source": [
    "df = spark.read.json('people.json')"
   ]
  },
  {
   "cell_type": "code",
   "execution_count": null,
   "id": "0cfc9d29",
   "metadata": {},
   "outputs": [
    {
     "data": {
      "text/plain": [
       "DataFrame[age: bigint, name: string]"
      ]
     },
     "metadata": {},
     "output_type": "display_data"
    }
   ],
   "source": [
    "# it automatically replaces missing data with null\n",
    "df.show()"
   ]
  },
  {
   "cell_type": "code",
   "execution_count": null,
   "id": "a42c0997",
   "metadata": {},
   "outputs": [
    {
     "name": "stdout",
     "output_type": "stream",
     "text": [
      "root\n",
      " |-- age: long (nullable = true)\n",
      " |-- name: string (nullable = true)\n",
      "\n"
     ]
    }
   ],
   "source": [
    "df.printSchema()"
   ]
  },
  {
   "cell_type": "code",
   "execution_count": 6,
   "id": "2cd40db6",
   "metadata": {},
   "outputs": [
    {
     "data": {
      "text/plain": [
       "['age', 'name']"
      ]
     },
     "execution_count": 6,
     "metadata": {},
     "output_type": "execute_result"
    }
   ],
   "source": [
    "df.columns"
   ]
  },
  {
   "cell_type": "code",
   "execution_count": 7,
   "id": "bd4b7c2a",
   "metadata": {},
   "outputs": [
    {
     "name": "stdout",
     "output_type": "stream",
     "text": [
      "+-------+------------------+-------+\n",
      "|summary|               age|   name|\n",
      "+-------+------------------+-------+\n",
      "|  count|                 2|      3|\n",
      "|   mean|              24.5|   null|\n",
      "| stddev|7.7781745930520225|   null|\n",
      "|    min|                19|   Andy|\n",
      "|    max|                30|Michael|\n",
      "+-------+------------------+-------+\n",
      "\n"
     ]
    }
   ],
   "source": [
    "# df.describe() returns dataFrame , so if you want to display it you need to call . show()\n",
    "df.describe().show()"
   ]
  },
  {
   "cell_type": "markdown",
   "id": "8075e0bd",
   "metadata": {},
   "source": [
    "in orders to do cetrain operations the schema has to be correct , which columns are strings or integers etc.\n"
   ]
  },
  {
   "cell_type": "code",
   "execution_count": 8,
   "id": "f55b23e8",
   "metadata": {},
   "outputs": [],
   "source": [
    " from pyspark.sql.types import (StructField, StringType, \n",
    "                                IntegerType, StructType)"
   ]
  },
  {
   "cell_type": "code",
   "execution_count": 9,
   "id": "f54f0013",
   "metadata": {},
   "outputs": [],
   "source": [
    "# let's create a list of struct field\n",
    "# struct field takes 3 argument (col , Type , nullable)"
   ]
  },
  {
   "cell_type": "code",
   "execution_count": 10,
   "id": "8b7659ba",
   "metadata": {},
   "outputs": [],
   "source": [
    "data_schema = [StructField(\"age\",IntegerType(),nullable=True),\n",
    "              StructField(\"name\",StringType(), nullable=True)]\n",
    "\n",
    "final_struct = StructType(data_schema)"
   ]
  },
  {
   "cell_type": "code",
   "execution_count": 11,
   "id": "2cd237fd",
   "metadata": {},
   "outputs": [],
   "source": [
    "df = spark.read.json(\"people.json\",schema=final_struct)"
   ]
  },
  {
   "cell_type": "code",
   "execution_count": 12,
   "id": "ecd5d7a5",
   "metadata": {},
   "outputs": [
    {
     "name": "stdout",
     "output_type": "stream",
     "text": [
      "root\n",
      " |-- age: integer (nullable = true)\n",
      " |-- name: string (nullable = true)\n",
      "\n"
     ]
    }
   ],
   "source": [
    "df.printSchema()"
   ]
  },
  {
   "cell_type": "code",
   "execution_count": null,
   "id": "ac5cdf91",
   "metadata": {},
   "outputs": [],
   "source": []
  },
  {
   "cell_type": "markdown",
   "id": "9bb2ac6e-17e4-4551-990f-ea8b6c92de7f",
   "metadata": {},
   "source": [
    "### Part 2"
   ]
  },
  {
   "cell_type": "code",
   "execution_count": 13,
   "id": "c7ae5505-c0a8-443b-8036-e003be2cc7dc",
   "metadata": {},
   "outputs": [
    {
     "name": "stdout",
     "output_type": "stream",
     "text": [
      "+----+-------+\n",
      "| age|   name|\n",
      "+----+-------+\n",
      "|null|Michael|\n",
      "|  30|   Andy|\n",
      "|  19| Justin|\n",
      "+----+-------+\n",
      "\n"
     ]
    }
   ],
   "source": [
    "df.show()"
   ]
  },
  {
   "cell_type": "code",
   "execution_count": 16,
   "id": "b0112559-df75-4a09-976d-bb6dfa63e60a",
   "metadata": {},
   "outputs": [
    {
     "data": {
      "text/plain": [
       "Column<'age'>"
      ]
     },
     "execution_count": 16,
     "metadata": {},
     "output_type": "execute_result"
    }
   ],
   "source": [
    "df['age']"
   ]
  },
  {
   "cell_type": "code",
   "execution_count": 17,
   "id": "dc8bdd35-ebf0-4baf-b72f-cde656f22a85",
   "metadata": {},
   "outputs": [],
   "source": [
    "# if i actually want to get the data columns with the results , I use the select methods"
   ]
  },
  {
   "cell_type": "code",
   "execution_count": 20,
   "id": "d74c71e3-d867-4e5e-802e-09c1d7b2f711",
   "metadata": {},
   "outputs": [
    {
     "data": {
      "text/plain": [
       "DataFrame[age: int]"
      ]
     },
     "execution_count": 20,
     "metadata": {},
     "output_type": "execute_result"
    }
   ],
   "source": [
    "df.select('age')"
   ]
  },
  {
   "cell_type": "markdown",
   "id": "f3a5c84a-c619-464b-be51-745b331082c7",
   "metadata": {},
   "source": [
    " the main difference between these methods that the first one returns Column and the second one returns a df the contains a single column"
   ]
  },
  {
   "cell_type": "code",
   "execution_count": 21,
   "id": "a145a495-53d9-4085-a60f-5a942ee85a48",
   "metadata": {},
   "outputs": [
    {
     "name": "stdout",
     "output_type": "stream",
     "text": [
      "+----+\n",
      "| age|\n",
      "+----+\n",
      "|null|\n",
      "|  30|\n",
      "|  19|\n",
      "+----+\n",
      "\n"
     ]
    }
   ],
   "source": [
    "df.select('age').show()"
   ]
  },
  {
   "cell_type": "code",
   "execution_count": 23,
   "id": "0264c840-9f38-4b1a-84cc-2af27c997f2a",
   "metadata": {},
   "outputs": [
    {
     "data": {
      "text/plain": [
       "Row(age=None, name='Michael')"
      ]
     },
     "execution_count": 23,
     "metadata": {},
     "output_type": "execute_result"
    }
   ],
   "source": [
    "df.head(2)[0]"
   ]
  },
  {
   "cell_type": "code",
   "execution_count": 26,
   "id": "8ca6035c-f43c-4e52-9174-b6040938aa77",
   "metadata": {},
   "outputs": [
    {
     "name": "stdout",
     "output_type": "stream",
     "text": [
      "+----+-------+\n",
      "| age|   name|\n",
      "+----+-------+\n",
      "|null|Michael|\n",
      "|  30|   Andy|\n",
      "|  19| Justin|\n",
      "+----+-------+\n",
      "\n"
     ]
    }
   ],
   "source": [
    "# select multiple columns that is pretty easy to do as well , you just passing list of columns \n",
    "\n",
    "df.select(['age','name']).show()"
   ]
  },
  {
   "cell_type": "code",
   "execution_count": 31,
   "id": "03e80bf2-29f0-48ed-8264-cf3fc489f0e4",
   "metadata": {},
   "outputs": [
    {
     "name": "stdout",
     "output_type": "stream",
     "text": [
      "+----+-------+-------+\n",
      "| age|   name|new_age|\n",
      "+----+-------+-------+\n",
      "|null|Michael|   null|\n",
      "|  30|   Andy|     60|\n",
      "|  19| Justin|     38|\n",
      "+----+-------+-------+\n",
      "\n"
     ]
    }
   ],
   "source": [
    "# this is not inplace operation\n",
    "df.withColumn('new_age',df['age'] * 2).show()"
   ]
  },
  {
   "cell_type": "code",
   "execution_count": 30,
   "id": "07c98f51-d075-473f-b87e-742a4193744a",
   "metadata": {},
   "outputs": [
    {
     "name": "stdout",
     "output_type": "stream",
     "text": [
      "+----+-------+\n",
      "| age|   name|\n",
      "+----+-------+\n",
      "|null|Michael|\n",
      "|  30|   Andy|\n",
      "|  19| Justin|\n",
      "+----+-------+\n",
      "\n"
     ]
    }
   ],
   "source": [
    "df.show()"
   ]
  },
  {
   "cell_type": "code",
   "execution_count": 35,
   "id": "09548b18-e5fd-48c1-b3ff-afa84345591b",
   "metadata": {},
   "outputs": [
    {
     "name": "stdout",
     "output_type": "stream",
     "text": [
      "+------+-------+\n",
      "|my_age|   name|\n",
      "+------+-------+\n",
      "|  null|Michael|\n",
      "|    30|   Andy|\n",
      "|    19| Justin|\n",
      "+------+-------+\n",
      "\n"
     ]
    }
   ],
   "source": [
    "# renaming a columns , this is also not inplace operation\n",
    "df.withColumnRenamed('age','my_age').show()"
   ]
  },
  {
   "cell_type": "code",
   "execution_count": null,
   "id": "37104c37-9797-4fe7-b37f-1f23a1ed0b3e",
   "metadata": {},
   "outputs": [],
   "source": []
  },
  {
   "cell_type": "markdown",
   "id": "04ad2919-7440-42bf-b563-c4556cdc9109",
   "metadata": {},
   "source": [
    "## SQL"
   ]
  },
  {
   "cell_type": "code",
   "execution_count": 37,
   "id": "92cfb27e-f005-4dfd-bd83-60e5d092a1c3",
   "metadata": {},
   "outputs": [],
   "source": [
    "df.createOrReplaceTempView('people')"
   ]
  },
  {
   "cell_type": "code",
   "execution_count": 41,
   "id": "e6f775e0-2207-4a3d-a55b-d9b2fda3f8a7",
   "metadata": {},
   "outputs": [
    {
     "name": "stdout",
     "output_type": "stream",
     "text": [
      "+---+----+\n",
      "|age|name|\n",
      "+---+----+\n",
      "| 30|Andy|\n",
      "+---+----+\n",
      "\n"
     ]
    }
   ],
   "source": [
    "results = spark.sql('select * from people where age > 20')  \n",
    "results.show()"
   ]
  },
  {
   "cell_type": "code",
   "execution_count": null,
   "id": "cf55823e-4bbd-4753-8e90-01ef39becf85",
   "metadata": {},
   "outputs": [],
   "source": []
  }
 ],
 "metadata": {
  "kernelspec": {
   "display_name": "Python 3 (ipykernel)",
   "language": "python",
   "name": "python3"
  },
  "language_info": {
   "codemirror_mode": {
    "name": "ipython",
    "version": 3
   },
   "file_extension": ".py",
   "mimetype": "text/x-python",
   "name": "python",
   "nbconvert_exporter": "python",
   "pygments_lexer": "ipython3",
   "version": "3.9.13"
  }
 },
 "nbformat": 4,
 "nbformat_minor": 5
}
