{
 "cells": [
  {
   "cell_type": "markdown",
   "id": "2ce4b276-6443-4e69-8c27-059018e685b7",
   "metadata": {},
   "source": [
    "one of main quirks of using mllib is that you need to format you data so that eventually it just has one or two columns     \n",
    "* Features , Label >> SuperVised\n",
    "* Feature >> UnsuperVised"
   ]
  },
  {
   "cell_type": "code",
   "execution_count": 7,
   "id": "c823aac1-5065-47d1-ad22-832ca3c3f2b7",
   "metadata": {},
   "outputs": [],
   "source": [
    "from pyspark.sql import SparkSession\n",
    "from pyspark.ml.regression import LinearRegression"
   ]
  },
  {
   "cell_type": "code",
   "execution_count": 8,
   "id": "725caf94-809b-420a-a8eb-c433797b14b3",
   "metadata": {},
   "outputs": [],
   "source": [
    "spark = SparkSession.builder.appName(\"ml\").getOrCreate()"
   ]
  },
  {
   "cell_type": "code",
   "execution_count": 9,
   "id": "30cb5cc9-ac69-45aa-8f72-401b6f513722",
   "metadata": {},
   "outputs": [
    {
     "name": "stdout",
     "output_type": "stream",
     "text": [
      "+-------------------+--------------------+\n",
      "|              label|            features|\n",
      "+-------------------+--------------------+\n",
      "| -9.490009878824548|(10,[0,1,2,3,4,5,...|\n",
      "| 0.2577820163584905|(10,[0,1,2,3,4,5,...|\n",
      "| -4.438869807456516|(10,[0,1,2,3,4,5,...|\n",
      "|-19.782762789614537|(10,[0,1,2,3,4,5,...|\n",
      "| -7.966593841555266|(10,[0,1,2,3,4,5,...|\n",
      "| -7.896274316726144|(10,[0,1,2,3,4,5,...|\n",
      "| -8.464803554195287|(10,[0,1,2,3,4,5,...|\n",
      "| 2.1214592666251364|(10,[0,1,2,3,4,5,...|\n",
      "| 1.0720117616524107|(10,[0,1,2,3,4,5,...|\n",
      "|-13.772441561702871|(10,[0,1,2,3,4,5,...|\n",
      "| -5.082010756207233|(10,[0,1,2,3,4,5,...|\n",
      "|  7.887786536531237|(10,[0,1,2,3,4,5,...|\n",
      "| 14.323146365332388|(10,[0,1,2,3,4,5,...|\n",
      "|-20.057482615789212|(10,[0,1,2,3,4,5,...|\n",
      "|-0.8995693247765151|(10,[0,1,2,3,4,5,...|\n",
      "| -19.16829262296376|(10,[0,1,2,3,4,5,...|\n",
      "|  5.601801561245534|(10,[0,1,2,3,4,5,...|\n",
      "|-3.2256352187273354|(10,[0,1,2,3,4,5,...|\n",
      "| 1.5299675726687754|(10,[0,1,2,3,4,5,...|\n",
      "| -0.250102447941961|(10,[0,1,2,3,4,5,...|\n",
      "+-------------------+--------------------+\n",
      "only showing top 20 rows\n",
      "\n"
     ]
    }
   ],
   "source": [
    "# libsvm is a type of file format\n",
    "training = spark.read.format(\"libsvm\").load(\"data/sample_linear_regression_data.txt\")\n",
    "training.show()"
   ]
  },
  {
   "cell_type": "code",
   "execution_count": 14,
   "id": "54dd5b1c-3eeb-478b-ac4f-29cfc4ddc624",
   "metadata": {},
   "outputs": [],
   "source": [
    "lr = LinearRegression(featuresCol='features', labelCol='label', predictionCol='prediction')"
   ]
  },
  {
   "cell_type": "code",
   "execution_count": 16,
   "id": "20b6ff27-9d28-4e0e-b0c9-e04715a9dd51",
   "metadata": {},
   "outputs": [],
   "source": [
    "lr_model = lr.fit(training)"
   ]
  },
  {
   "cell_type": "code",
   "execution_count": 19,
   "id": "bc873c56-007a-470a-89ad-a7542dfedcff",
   "metadata": {},
   "outputs": [
    {
     "data": {
      "text/plain": [
       "DenseVector([0.0073, 0.8314, -0.8095, 2.4412, 0.5192, 1.1535, -0.2989, -0.5129, -0.6197, 0.6956])"
      ]
     },
     "execution_count": 19,
     "metadata": {},
     "output_type": "execute_result"
    }
   ],
   "source": [
    "lr_model.coefficients"
   ]
  },
  {
   "cell_type": "code",
   "execution_count": 20,
   "id": "5eaeacef-c21e-4eea-af6a-86376e155556",
   "metadata": {},
   "outputs": [
    {
     "data": {
      "text/plain": [
       "0.14228558260358093"
      ]
     },
     "execution_count": 20,
     "metadata": {},
     "output_type": "execute_result"
    }
   ],
   "source": [
    "lr_model.intercept"
   ]
  },
  {
   "cell_type": "code",
   "execution_count": 21,
   "id": "7b4f6bc6-e65e-4220-840d-a6e39c371d1b",
   "metadata": {},
   "outputs": [],
   "source": [
    "training_summary = lr_model.summary"
   ]
  },
  {
   "cell_type": "code",
   "execution_count": 23,
   "id": "0d172cd8-efc4-417a-9544-706d38c6963e",
   "metadata": {},
   "outputs": [
    {
     "name": "stdout",
     "output_type": "stream",
     "text": [
      "+-------------------+\n",
      "|          residuals|\n",
      "+-------------------+\n",
      "|-11.011130022096554|\n",
      "| 0.9236590911176538|\n",
      "|-4.5957401897776675|\n",
      "|  -20.4201774575836|\n",
      "|-10.339160314788181|\n",
      "|-5.9552091439610555|\n",
      "|-10.726906349283922|\n",
      "|  2.122807193191233|\n",
      "|  4.077122222293811|\n",
      "|-17.316168071241652|\n",
      "| -4.593044343959059|\n",
      "|  6.380476690746936|\n",
      "| 11.320566035059846|\n",
      "|-20.721971774534094|\n",
      "| -2.736692773777401|\n",
      "| -16.66886934252847|\n",
      "|  8.242186378876315|\n",
      "|-1.3723486332690233|\n",
      "|-0.7060332131264666|\n",
      "|-1.1591135969994064|\n",
      "+-------------------+\n",
      "only showing top 20 rows\n",
      "\n"
     ]
    }
   ],
   "source": [
    "training_summary.residuals.show()"
   ]
  },
  {
   "cell_type": "code",
   "execution_count": 27,
   "id": "3cd6f9c9-c446-49eb-85fb-16f6c2e8a88a",
   "metadata": {},
   "outputs": [
    {
     "name": "stdout",
     "output_type": "stream",
     "text": [
      "RMSE 10.16309157133015 \n",
      "\n",
      "R2 0.027839179518600154\n"
     ]
    }
   ],
   "source": [
    "print(f\"RMSE {training_summary.rootMeanSquaredError} \\n\")\n",
    "print(f\"R2 {training_summary.r2}\")"
   ]
  },
  {
   "cell_type": "code",
   "execution_count": 29,
   "id": "cf0ad4cc-4336-4818-85ca-e43ee15c6b44",
   "metadata": {},
   "outputs": [],
   "source": [
    "all_data = spark.read.format(\"libsvm\").load(\"data/sample_linear_regression_data.txt\")"
   ]
  },
  {
   "cell_type": "code",
   "execution_count": 34,
   "id": "ffee25c6-0354-42d7-af2f-6e5322970373",
   "metadata": {},
   "outputs": [
    {
     "name": "stdout",
     "output_type": "stream",
     "text": [
      "There are 501 Rows and 2 Columns\n"
     ]
    }
   ],
   "source": [
    "print(f\"There are {all_data.count()} Rows and {len(all_data.columns)} Columns\")"
   ]
  },
  {
   "cell_type": "code",
   "execution_count": 31,
   "id": "c13d637a-ce6d-4ba9-9568-f35c8cb4b480",
   "metadata": {},
   "outputs": [],
   "source": [
    "train_data, test_data = all_data.randomSplit([0.7, 0.3])"
   ]
  },
  {
   "cell_type": "code",
   "execution_count": 35,
   "id": "be42d330-807f-4ed1-9db5-6e892ae59cbb",
   "metadata": {},
   "outputs": [
    {
     "name": "stdout",
     "output_type": "stream",
     "text": [
      "Training\n",
      "There are 355 Rows and 2 Columns\n"
     ]
    }
   ],
   "source": [
    "print(\"Training\")\n",
    "print(f\"There are {train_data.count()} Rows and {len(train_data.columns)} Columns\")"
   ]
  },
  {
   "cell_type": "code",
   "execution_count": 36,
   "id": "34154081-7590-4bdc-bfc3-9a964b2103db",
   "metadata": {},
   "outputs": [
    {
     "name": "stdout",
     "output_type": "stream",
     "text": [
      "Testing\n",
      "There are 146 Rows and 2 Columns\n"
     ]
    }
   ],
   "source": [
    "print(\"Testing\")\n",
    "print(f\"There are {test_data.count()} Rows and {len(test_data.columns)} Columns\")"
   ]
  },
  {
   "cell_type": "code",
   "execution_count": 37,
   "id": "bfd016bd-66f7-49c7-a496-ee53720900a1",
   "metadata": {},
   "outputs": [],
   "source": [
    "unlabled_data = all_data.select('features')"
   ]
  },
  {
   "cell_type": "code",
   "execution_count": 38,
   "id": "bfa4ed32-0390-4558-817a-77d8ac29c128",
   "metadata": {},
   "outputs": [
    {
     "name": "stdout",
     "output_type": "stream",
     "text": [
      "+--------------------+\n",
      "|            features|\n",
      "+--------------------+\n",
      "|(10,[0,1,2,3,4,5,...|\n",
      "|(10,[0,1,2,3,4,5,...|\n",
      "|(10,[0,1,2,3,4,5,...|\n",
      "|(10,[0,1,2,3,4,5,...|\n",
      "|(10,[0,1,2,3,4,5,...|\n",
      "|(10,[0,1,2,3,4,5,...|\n",
      "|(10,[0,1,2,3,4,5,...|\n",
      "|(10,[0,1,2,3,4,5,...|\n",
      "|(10,[0,1,2,3,4,5,...|\n",
      "|(10,[0,1,2,3,4,5,...|\n",
      "|(10,[0,1,2,3,4,5,...|\n",
      "|(10,[0,1,2,3,4,5,...|\n",
      "|(10,[0,1,2,3,4,5,...|\n",
      "|(10,[0,1,2,3,4,5,...|\n",
      "|(10,[0,1,2,3,4,5,...|\n",
      "|(10,[0,1,2,3,4,5,...|\n",
      "|(10,[0,1,2,3,4,5,...|\n",
      "|(10,[0,1,2,3,4,5,...|\n",
      "|(10,[0,1,2,3,4,5,...|\n",
      "|(10,[0,1,2,3,4,5,...|\n",
      "+--------------------+\n",
      "only showing top 20 rows\n",
      "\n"
     ]
    }
   ],
   "source": [
    "unlabled_data.show()"
   ]
  },
  {
   "cell_type": "code",
   "execution_count": 39,
   "id": "42bed463-8ac8-46cb-926b-809f51ba730b",
   "metadata": {},
   "outputs": [],
   "source": [
    "correct_model = lr.fit(train_data)"
   ]
  },
  {
   "cell_type": "code",
   "execution_count": 40,
   "id": "28b58a72-7363-4653-a55c-1292b1e70b87",
   "metadata": {},
   "outputs": [],
   "source": [
    "test_results = correct_model.evaluate(test_data)"
   ]
  },
  {
   "cell_type": "code",
   "execution_count": 41,
   "id": "1d4d3d2c-90f8-4328-ac94-875749cdda66",
   "metadata": {},
   "outputs": [
    {
     "name": "stdout",
     "output_type": "stream",
     "text": [
      "+-------------------+\n",
      "|          residuals|\n",
      "+-------------------+\n",
      "| -29.59776154827857|\n",
      "|-25.016061054788523|\n",
      "| -21.67142554915997|\n",
      "| -22.53110146576099|\n",
      "|-22.410377207823245|\n",
      "|-20.091037013534436|\n",
      "|-19.603284018659487|\n",
      "| -16.78122037391696|\n",
      "|-18.592009998150267|\n",
      "| -18.75072941313241|\n",
      "|-20.217341343047078|\n",
      "| -16.52765134293253|\n",
      "|-19.104198719097578|\n",
      "|-20.292748684324465|\n",
      "| -17.43274349628169|\n",
      "| -18.53590762263824|\n",
      "|-13.320150401815622|\n",
      "|-13.644468109708876|\n",
      "|-15.298392007021267|\n",
      "|-11.407973103354054|\n",
      "+-------------------+\n",
      "only showing top 20 rows\n",
      "\n"
     ]
    }
   ],
   "source": [
    "test_results.residuals.show()"
   ]
  },
  {
   "cell_type": "code",
   "execution_count": 42,
   "id": "4912d6b4-25aa-4b20-ac51-452a33b309e8",
   "metadata": {},
   "outputs": [
    {
     "name": "stdout",
     "output_type": "stream",
     "text": [
      "RMSE 11.239738045609387 \n",
      "\n",
      "R2 -0.0459108649882316\n"
     ]
    }
   ],
   "source": [
    "print(f\"RMSE {test_results.rootMeanSquaredError} \\n\")\n",
    "print(f\"R2 {test_results.r2}\")"
   ]
  },
  {
   "cell_type": "code",
   "execution_count": 44,
   "id": "f6ccbdd5-c7b8-407a-9316-0418110b33e6",
   "metadata": {},
   "outputs": [],
   "source": [
    "preductions = correct_model.transform(unlabled_data)"
   ]
  },
  {
   "cell_type": "code",
   "execution_count": 46,
   "id": "c9a0f515-33ae-4cf6-81dc-953bc7c5b0ec",
   "metadata": {},
   "outputs": [
    {
     "name": "stdout",
     "output_type": "stream",
     "text": [
      "+--------------------+-------------------+\n",
      "|            features|         prediction|\n",
      "+--------------------+-------------------+\n",
      "|(10,[0,1,2,3,4,5,...|-0.3793332739483283|\n",
      "|(10,[0,1,2,3,4,5,...| -2.116063421575468|\n",
      "|(10,[0,1,2,3,4,5,...| 0.9805292224741291|\n",
      "|(10,[0,1,2,3,4,5,...| 1.0774562822217295|\n",
      "|(10,[0,1,2,3,4,5,...|  3.083990098278862|\n",
      "|(10,[0,1,2,3,4,5,...|-0.8032483869308691|\n",
      "|(10,[0,1,2,3,4,5,...| 1.5805780536506338|\n",
      "|(10,[0,1,2,3,4,5,...| 1.2867074643450136|\n",
      "|(10,[0,1,2,3,4,5,...| -2.355141989996113|\n",
      "|(10,[0,1,2,3,4,5,...|  3.223042986570298|\n",
      "|(10,[0,1,2,3,4,5,...|-0.7931105775916838|\n",
      "|(10,[0,1,2,3,4,5,...|  2.745308714701633|\n",
      "|(10,[0,1,2,3,4,5,...| 3.0298750009224626|\n",
      "|(10,[0,1,2,3,4,5,...| 2.4736188499717793|\n",
      "|(10,[0,1,2,3,4,5,...| 3.1687839254522547|\n",
      "|(10,[0,1,2,3,4,5,...|-1.4243931221853994|\n",
      "|(10,[0,1,2,3,4,5,...| -2.080136855444721|\n",
      "|(10,[0,1,2,3,4,5,...| -2.876698866487407|\n",
      "|(10,[0,1,2,3,4,5,...|  2.097532142859017|\n",
      "|(10,[0,1,2,3,4,5,...|0.15578820441411012|\n",
      "+--------------------+-------------------+\n",
      "only showing top 20 rows\n",
      "\n"
     ]
    }
   ],
   "source": [
    "preductions.show()"
   ]
  },
  {
   "cell_type": "code",
   "execution_count": 47,
   "id": "c45b8490-1a2c-4d29-ae76-ae39c945c504",
   "metadata": {},
   "outputs": [
    {
     "name": "stdout",
     "output_type": "stream",
     "text": [
      "+--------------------+\n",
      "|            features|\n",
      "+--------------------+\n",
      "|(10,[0,1,2,3,4,5,...|\n",
      "|(10,[0,1,2,3,4,5,...|\n",
      "|(10,[0,1,2,3,4,5,...|\n",
      "|(10,[0,1,2,3,4,5,...|\n",
      "|(10,[0,1,2,3,4,5,...|\n",
      "|(10,[0,1,2,3,4,5,...|\n",
      "|(10,[0,1,2,3,4,5,...|\n",
      "|(10,[0,1,2,3,4,5,...|\n",
      "|(10,[0,1,2,3,4,5,...|\n",
      "|(10,[0,1,2,3,4,5,...|\n",
      "|(10,[0,1,2,3,4,5,...|\n",
      "|(10,[0,1,2,3,4,5,...|\n",
      "|(10,[0,1,2,3,4,5,...|\n",
      "|(10,[0,1,2,3,4,5,...|\n",
      "|(10,[0,1,2,3,4,5,...|\n",
      "|(10,[0,1,2,3,4,5,...|\n",
      "|(10,[0,1,2,3,4,5,...|\n",
      "|(10,[0,1,2,3,4,5,...|\n",
      "|(10,[0,1,2,3,4,5,...|\n",
      "|(10,[0,1,2,3,4,5,...|\n",
      "+--------------------+\n",
      "only showing top 20 rows\n",
      "\n"
     ]
    }
   ],
   "source": [
    "unlabled_data.show()"
   ]
  },
  {
   "cell_type": "code",
   "execution_count": null,
   "id": "e773e5e5-7a9d-4d74-a27f-0674d1dc053a",
   "metadata": {},
   "outputs": [],
   "source": []
  }
 ],
 "metadata": {
  "kernelspec": {
   "display_name": "Python 3 (ipykernel)",
   "language": "python",
   "name": "python3"
  },
  "language_info": {
   "codemirror_mode": {
    "name": "ipython",
    "version": 3
   },
   "file_extension": ".py",
   "mimetype": "text/x-python",
   "name": "python",
   "nbconvert_exporter": "python",
   "pygments_lexer": "ipython3",
   "version": "3.9.13"
  }
 },
 "nbformat": 4,
 "nbformat_minor": 5
}
