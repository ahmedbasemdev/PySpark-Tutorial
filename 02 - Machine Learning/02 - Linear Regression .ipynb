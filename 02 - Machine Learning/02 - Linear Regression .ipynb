{
 "cells": [
  {
   "cell_type": "code",
   "execution_count": 1,
   "id": "c894585b-62cf-4349-8fde-370ec0adf11f",
   "metadata": {},
   "outputs": [],
   "source": [
    "from pyspark.sql import SparkSession"
   ]
  },
  {
   "cell_type": "code",
   "execution_count": 2,
   "id": "3934ac92-3feb-4e24-a642-3fcaad2609be",
   "metadata": {},
   "outputs": [],
   "source": [
    "spark = SparkSession.builder.appName(\"s\").getOrCreate()"
   ]
  },
  {
   "cell_type": "code",
   "execution_count": 3,
   "id": "c80fd2fb-b1ff-40e3-888d-18f93c3759b6",
   "metadata": {},
   "outputs": [],
   "source": [
    "data = spark.read.csv('data/Ecommerce_Customers.csv',inferSchema=True , \n",
    "                   header=True)"
   ]
  },
  {
   "cell_type": "code",
   "execution_count": 4,
   "id": "58c4730c-71a0-4d3b-b625-7ace9760f365",
   "metadata": {},
   "outputs": [
    {
     "name": "stdout",
     "output_type": "stream",
     "text": [
      "root\n",
      " |-- Email: string (nullable = true)\n",
      " |-- Address: string (nullable = true)\n",
      " |-- Avatar: string (nullable = true)\n",
      " |-- Avg Session Length: double (nullable = true)\n",
      " |-- Time on App: double (nullable = true)\n",
      " |-- Time on Website: double (nullable = true)\n",
      " |-- Length of Membership: double (nullable = true)\n",
      " |-- Yearly Amount Spent: double (nullable = true)\n",
      "\n"
     ]
    }
   ],
   "source": [
    "data.printSchema()"
   ]
  },
  {
   "cell_type": "code",
   "execution_count": 8,
   "id": "0d628a9f-c39c-44c5-84d6-d0e213e8c513",
   "metadata": {},
   "outputs": [
    {
     "data": {
      "text/plain": [
       "Row(Email='mstephenson@fernandez.com', Address='835 Frank TunnelWrightmouth, MI 82180-9605', Avatar='Violet', Avg Session Length=34.49726772511229, Time on App=12.65565114916675, Time on Website=39.57766801952616, Length of Membership=4.0826206329529615, Yearly Amount Spent=587.9510539684005)"
      ]
     },
     "execution_count": 8,
     "metadata": {},
     "output_type": "execute_result"
    }
   ],
   "source": [
    "data.head(1)[0]"
   ]
  },
  {
   "cell_type": "code",
   "execution_count": 9,
   "id": "17343aa6-4a59-4516-8658-b3212cdafce5",
   "metadata": {},
   "outputs": [
    {
     "name": "stdout",
     "output_type": "stream",
     "text": [
      "mstephenson@fernandez.com\n",
      "835 Frank TunnelWrightmouth, MI 82180-9605\n",
      "Violet\n",
      "34.49726772511229\n",
      "12.65565114916675\n",
      "39.57766801952616\n",
      "4.0826206329529615\n",
      "587.9510539684005\n"
     ]
    }
   ],
   "source": [
    "for item in data.head(1)[0]:\n",
    "    print(item)"
   ]
  },
  {
   "cell_type": "code",
   "execution_count": 6,
   "id": "beea03c8-ca91-4f04-b7a1-33f93b83bc1e",
   "metadata": {},
   "outputs": [],
   "source": [
    "from pyspark.ml.linalg import Vectors\n",
    "from pyspark.ml.feature import VectorAssembler"
   ]
  },
  {
   "cell_type": "code",
   "execution_count": 7,
   "id": "b9390898-e8c9-413f-8a48-8337eb970bac",
   "metadata": {},
   "outputs": [
    {
     "data": {
      "text/plain": [
       "['Email',\n",
       " 'Address',\n",
       " 'Avatar',\n",
       " 'Avg Session Length',\n",
       " 'Time on App',\n",
       " 'Time on Website',\n",
       " 'Length of Membership',\n",
       " 'Yearly Amount Spent']"
      ]
     },
     "execution_count": 7,
     "metadata": {},
     "output_type": "execute_result"
    }
   ],
   "source": [
    "data.columns"
   ]
  },
  {
   "cell_type": "code",
   "execution_count": 9,
   "id": "926a559f-99be-44c9-b486-6275b9bc4373",
   "metadata": {},
   "outputs": [],
   "source": [
    "# this creates a column called features \"ouput col\" which contain the values of these columns as vector\n",
    "assembler = VectorAssembler(inputCols = ['Avg Session Length','Time on App','Time on Website','Length of Membership'],\n",
    "                            outputCol= 'features')"
   ]
  },
  {
   "cell_type": "code",
   "execution_count": 10,
   "id": "fffdbe0a-5b53-4c68-a368-f1efd9dcfe52",
   "metadata": {},
   "outputs": [],
   "source": [
    "output = assembler.transform(data)"
   ]
  },
  {
   "cell_type": "code",
   "execution_count": 14,
   "id": "34c7b7e4-772f-4b4d-be3d-6a61cc542791",
   "metadata": {},
   "outputs": [
    {
     "name": "stdout",
     "output_type": "stream",
     "text": [
      "root\n",
      " |-- Email: string (nullable = true)\n",
      " |-- Address: string (nullable = true)\n",
      " |-- Avatar: string (nullable = true)\n",
      " |-- Avg Session Length: double (nullable = true)\n",
      " |-- Time on App: double (nullable = true)\n",
      " |-- Time on Website: double (nullable = true)\n",
      " |-- Length of Membership: double (nullable = true)\n",
      " |-- Yearly Amount Spent: double (nullable = true)\n",
      " |-- features: vector (nullable = true)\n",
      "\n"
     ]
    }
   ],
   "source": [
    "output.printSchema()"
   ]
  },
  {
   "cell_type": "code",
   "execution_count": 17,
   "id": "d9754373-bb57-4367-8fe2-a4fd5ca91d7f",
   "metadata": {},
   "outputs": [
    {
     "data": {
      "text/plain": [
       "Row(Email='mstephenson@fernandez.com', Address='835 Frank TunnelWrightmouth, MI 82180-9605', Avatar='Violet', Avg Session Length=34.49726772511229, Time on App=12.65565114916675, Time on Website=39.57766801952616, Length of Membership=4.0826206329529615, Yearly Amount Spent=587.9510539684005, features=DenseVector([34.4973, 12.6557, 39.5777, 4.0826]))"
      ]
     },
     "execution_count": 17,
     "metadata": {},
     "output_type": "execute_result"
    }
   ],
   "source": [
    "output.head(1)[0]"
   ]
  },
  {
   "cell_type": "code",
   "execution_count": 18,
   "id": "6cb00a28-b654-4a42-809c-f8120575839e",
   "metadata": {},
   "outputs": [],
   "source": [
    "final_data = output.select(['features','Yearly Amount Spent'])"
   ]
  },
  {
   "cell_type": "code",
   "execution_count": 19,
   "id": "894b93b3-3955-4112-a63c-a19340a97edb",
   "metadata": {},
   "outputs": [
    {
     "name": "stdout",
     "output_type": "stream",
     "text": [
      "+--------------------+-------------------+\n",
      "|            features|Yearly Amount Spent|\n",
      "+--------------------+-------------------+\n",
      "|[34.4972677251122...|  587.9510539684005|\n",
      "|[31.9262720263601...|  392.2049334443264|\n",
      "|[33.0009147556426...| 487.54750486747207|\n",
      "|[34.3055566297555...|  581.8523440352177|\n",
      "|[33.3306725236463...|  599.4060920457634|\n",
      "|[33.8710378793419...|   637.102447915074|\n",
      "|[32.0215955013870...|  521.5721747578274|\n",
      "|[32.7391429383803...|  549.9041461052942|\n",
      "|[33.9877728956856...|  570.2004089636196|\n",
      "|[31.9365486184489...|  427.1993848953282|\n",
      "|[33.9925727749537...|  492.6060127179966|\n",
      "|[33.8793608248049...|  522.3374046069357|\n",
      "|[29.5324289670579...|  408.6403510726275|\n",
      "|[33.1903340437226...|  573.4158673313865|\n",
      "|[32.3879758531538...|  470.4527333009554|\n",
      "|[30.7377203726281...|  461.7807421962299|\n",
      "|[32.1253868972878...| 457.84769594494855|\n",
      "|[32.3388993230671...| 407.70454754954415|\n",
      "|[32.1878120459321...|  452.3156754800354|\n",
      "|[32.6178560628234...|   605.061038804892|\n",
      "+--------------------+-------------------+\n",
      "only showing top 20 rows\n",
      "\n"
     ]
    }
   ],
   "source": [
    "final_data.show()"
   ]
  },
  {
   "cell_type": "code",
   "execution_count": 20,
   "id": "279785c0-faff-4f0a-b1c6-b7b923553bd6",
   "metadata": {},
   "outputs": [],
   "source": [
    "train_data , test_data = final_data.randomSplit([0.7,0.3])"
   ]
  },
  {
   "cell_type": "code",
   "execution_count": 23,
   "id": "b9968c9b-2bfa-49cf-bc42-c9462de25e9d",
   "metadata": {},
   "outputs": [
    {
     "name": "stdout",
     "output_type": "stream",
     "text": [
      "+-------+-------------------+\n",
      "|summary|Yearly Amount Spent|\n",
      "+-------+-------------------+\n",
      "|  count|                361|\n",
      "|   mean|  498.3258429217169|\n",
      "| stddev|  80.29917477057559|\n",
      "|    min| 256.67058229005585|\n",
      "|    max|  744.2218671047146|\n",
      "+-------+-------------------+\n",
      "\n"
     ]
    }
   ],
   "source": [
    "train_data.describe().show()"
   ]
  },
  {
   "cell_type": "code",
   "execution_count": 24,
   "id": "0bc22df8-3d91-4e8a-bca8-6fd70ee5fa52",
   "metadata": {},
   "outputs": [],
   "source": [
    "from pyspark.ml.regression import LinearRegression"
   ]
  },
  {
   "cell_type": "code",
   "execution_count": 26,
   "id": "06319e2b-a9dc-449e-8d9d-2344b20911ca",
   "metadata": {},
   "outputs": [],
   "source": [
    "# features col defualt name is features\n",
    "lr = LinearRegression(labelCol='Yearly Amount Spent')"
   ]
  },
  {
   "cell_type": "code",
   "execution_count": 27,
   "id": "b2dca67f-3cda-4ce1-8af1-458a7a00cb92",
   "metadata": {},
   "outputs": [],
   "source": [
    "lr_model = lr.fit(train_data)"
   ]
  },
  {
   "cell_type": "code",
   "execution_count": 28,
   "id": "202774e2-db65-4b1c-9248-33501aee9272",
   "metadata": {},
   "outputs": [],
   "source": [
    "test_results = lr_model.evaluate(test_data)"
   ]
  },
  {
   "cell_type": "code",
   "execution_count": 29,
   "id": "8ee4d9cd-7bd4-4a58-989f-eb5b5df3133c",
   "metadata": {},
   "outputs": [
    {
     "name": "stdout",
     "output_type": "stream",
     "text": [
      "+--------------------+\n",
      "|           residuals|\n",
      "+--------------------+\n",
      "|0.043492151727321016|\n",
      "| -12.899748809012806|\n",
      "|  -3.404006558488163|\n",
      "|    3.26448589198219|\n",
      "|  18.782459679078386|\n",
      "|  0.3094620752403898|\n",
      "| -3.5059914633009157|\n",
      "|  -8.457673641023234|\n",
      "|   4.500369480422307|\n",
      "| -1.8792566189689524|\n",
      "|  -7.509187346833073|\n",
      "|  -3.583055896367341|\n",
      "| -2.3372176270856357|\n",
      "|   8.678123695835495|\n",
      "|  -6.284209630315388|\n",
      "|  -9.048689101272146|\n",
      "| -17.712338307163918|\n",
      "|  -4.644700606551282|\n",
      "|-0.07722522041132152|\n",
      "|  -8.496140410839871|\n",
      "+--------------------+\n",
      "only showing top 20 rows\n",
      "\n"
     ]
    }
   ],
   "source": [
    "test_results.residuals.show()"
   ]
  },
  {
   "cell_type": "code",
   "execution_count": 31,
   "id": "885f59bd-20de-4e43-837c-6b99cab4064d",
   "metadata": {},
   "outputs": [
    {
     "data": {
      "text/plain": [
       "9.877271264018406"
      ]
     },
     "execution_count": 31,
     "metadata": {},
     "output_type": "execute_result"
    }
   ],
   "source": [
    "test_results.rootMeanSquaredError"
   ]
  },
  {
   "cell_type": "code",
   "execution_count": 32,
   "id": "4ff03fdc-9b07-4b85-95fa-58a47fae8483",
   "metadata": {},
   "outputs": [
    {
     "data": {
      "text/plain": [
       "0.9833933226143012"
      ]
     },
     "execution_count": 32,
     "metadata": {},
     "output_type": "execute_result"
    }
   ],
   "source": [
    "test_results.r2"
   ]
  },
  {
   "cell_type": "code",
   "execution_count": 33,
   "id": "d038f883-d82c-436f-9fb5-c86ba348e400",
   "metadata": {},
   "outputs": [],
   "source": [
    "unlabeled_data = test_data.select('features')"
   ]
  },
  {
   "cell_type": "code",
   "execution_count": 34,
   "id": "15c697e2-52fe-40a7-9668-6fbfc200659c",
   "metadata": {},
   "outputs": [
    {
     "name": "stdout",
     "output_type": "stream",
     "text": [
      "+--------------------+\n",
      "|            features|\n",
      "+--------------------+\n",
      "|[30.5743636841713...|\n",
      "|[31.0662181616375...|\n",
      "|[31.2681042107507...|\n",
      "|[31.3091926408918...|\n",
      "|[31.3123495994443...|\n",
      "|[31.3895854806643...|\n",
      "|[31.4252268808548...|\n",
      "|[31.4474464941278...|\n",
      "|[31.5316044825729...|\n",
      "|[31.5761319713222...|\n",
      "|[31.7207699002873...|\n",
      "|[31.8124825597242...|\n",
      "|[31.8186165667690...|\n",
      "|[31.8512531286083...|\n",
      "|[31.8745516945853...|\n",
      "|[31.8854062999117...|\n",
      "|[31.9563005605233...|\n",
      "|[31.9673209478824...|\n",
      "|[32.0047530203648...|\n",
      "|[32.0085045178551...|\n",
      "+--------------------+\n",
      "only showing top 20 rows\n",
      "\n"
     ]
    }
   ],
   "source": [
    "unlabeled_data.show()"
   ]
  },
  {
   "cell_type": "code",
   "execution_count": 35,
   "id": "67b921d5-faa1-4f95-a562-ab8836bbbba3",
   "metadata": {},
   "outputs": [],
   "source": [
    "prediction = lr_model.transform(unlabeled_data)"
   ]
  },
  {
   "cell_type": "code",
   "execution_count": 37,
   "id": "062eb69f-90ab-4d45-883a-594c8e4518da",
   "metadata": {},
   "outputs": [
    {
     "name": "stdout",
     "output_type": "stream",
     "text": [
      "+--------------------+------------------+\n",
      "|            features|        prediction|\n",
      "+--------------------+------------------+\n",
      "|[30.5743636841713...|442.02092160633833|\n",
      "|[31.0662181616375...|461.83304201668716|\n",
      "|[31.2681042107507...| 426.8745397323121|\n",
      "|[31.3091926408918...|429.45623194795144|\n",
      "|[31.3123495994443...|444.80895834886223|\n",
      "|[31.3895854806643...| 409.7601489847425|\n",
      "|[31.4252268808548...| 534.2727101180628|\n",
      "|[31.4474464941278...|427.06041573624725|\n",
      "|[31.5316044825729...|432.01523624894025|\n",
      "|[31.5761319713222...| 543.1058406082973|\n",
      "|[31.7207699002873...|  546.284120824856|\n",
      "|[31.8124825597242...|396.39340088016456|\n",
      "|[31.8186165667690...| 448.7558909972213|\n",
      "|[31.8512531286083...| 464.3141229709629|\n",
      "|[31.8745516945853...| 398.5694538765829|\n",
      "|[31.8854062999117...|399.15196207374765|\n",
      "|[31.9563005605233...| 564.8382700543627|\n",
      "|[31.9673209478824...|450.39454184620354|\n",
      "|[32.0047530203648...|463.82320634104076|\n",
      "|[32.0085045178551...|451.69336143959526|\n",
      "+--------------------+------------------+\n",
      "only showing top 20 rows\n",
      "\n"
     ]
    }
   ],
   "source": [
    "prediction.show()"
   ]
  },
  {
   "cell_type": "code",
   "execution_count": null,
   "id": "9e97099f-63ac-4ab5-8a2e-7bf997c6a219",
   "metadata": {},
   "outputs": [],
   "source": []
  }
 ],
 "metadata": {
  "kernelspec": {
   "display_name": "Python 3 (ipykernel)",
   "language": "python",
   "name": "python3"
  },
  "language_info": {
   "codemirror_mode": {
    "name": "ipython",
    "version": 3
   },
   "file_extension": ".py",
   "mimetype": "text/x-python",
   "name": "python",
   "nbconvert_exporter": "python",
   "pygments_lexer": "ipython3",
   "version": "3.9.13"
  }
 },
 "nbformat": 4,
 "nbformat_minor": 5
}
