{
 "cells": [
  {
   "cell_type": "code",
   "execution_count": 2,
   "id": "dcd147f7-29c9-475f-be7d-c614dba27570",
   "metadata": {},
   "outputs": [],
   "source": [
    "from pyspark import SparkContext\n",
    "from pyspark.streaming import StreamingContext"
   ]
  },
  {
   "cell_type": "code",
   "execution_count": 3,
   "id": "310afa83-e3ad-4ed8-8b5e-2a9137812b56",
   "metadata": {},
   "outputs": [],
   "source": [
    "sc = SparkContext(\"local[2]\", \"Network word Count\")"
   ]
  },
  {
   "cell_type": "code",
   "execution_count": 4,
   "id": "7a523421-ed81-4565-884d-258fd5513d53",
   "metadata": {},
   "outputs": [
    {
     "name": "stderr",
     "output_type": "stream",
     "text": [
      "C:\\Users\\Ahmed-Basem\\Anaconda3\\lib\\site-packages\\pyspark\\streaming\\context.py:72: FutureWarning: DStream is deprecated as of Spark 3.4.0. Migrate to Structured Streaming.\n",
      "  warnings.warn(\n"
     ]
    }
   ],
   "source": [
    "ssc = StreamingContext(sc,1)"
   ]
  },
  {
   "cell_type": "code",
   "execution_count": 6,
   "id": "a1a3e7e0-c453-4bff-9b69-305a30459bfe",
   "metadata": {},
   "outputs": [],
   "source": [
    "lines = ssc.socketTextStream(\"localhost\", 9999)"
   ]
  },
  {
   "cell_type": "code",
   "execution_count": 7,
   "id": "e9958c09-539d-4ba9-8166-a2d586f37ca8",
   "metadata": {},
   "outputs": [],
   "source": [
    "words = lines.flatMap(lambda line:line.split(\" \"))"
   ]
  },
  {
   "cell_type": "code",
   "execution_count": 8,
   "id": "45d15845-2c5b-4932-a34b-b9d53ac2886e",
   "metadata": {},
   "outputs": [],
   "source": [
    "pairs = words.map(lambda word:(word,1))"
   ]
  },
  {
   "cell_type": "code",
   "execution_count": 9,
   "id": "4b4d6854-8983-49dd-adae-df0994b23829",
   "metadata": {},
   "outputs": [],
   "source": [
    "word_counts = pairs.reduceByKey(lambda num1,num2 : num1 + num2)"
   ]
  },
  {
   "cell_type": "code",
   "execution_count": 10,
   "id": "e4785146-330c-402a-80ef-0163c6a2bfe4",
   "metadata": {},
   "outputs": [],
   "source": [
    "word_counts.pprint()"
   ]
  },
  {
   "cell_type": "code",
   "execution_count": 11,
   "id": "b5eb0f8d-3b34-44fd-823d-7c07369339ad",
   "metadata": {},
   "outputs": [],
   "source": [
    "ssc.start()"
   ]
  },
  {
   "cell_type": "code",
   "execution_count": null,
   "id": "4e189123-d45e-4775-84e3-57810b6c9e94",
   "metadata": {},
   "outputs": [],
   "source": []
  }
 ],
 "metadata": {
  "kernelspec": {
   "display_name": "Python 3 (ipykernel)",
   "language": "python",
   "name": "python3"
  },
  "language_info": {
   "codemirror_mode": {
    "name": "ipython",
    "version": 3
   },
   "file_extension": ".py",
   "mimetype": "text/x-python",
   "name": "python",
   "nbconvert_exporter": "python",
   "pygments_lexer": "ipython3",
   "version": "3.9.13"
  }
 },
 "nbformat": 4,
 "nbformat_minor": 5
}
