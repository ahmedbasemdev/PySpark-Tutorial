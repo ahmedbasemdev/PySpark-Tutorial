{
  "cells": [
    {
      "cell_type": "code",
      "execution_count": 2,
      "id": "f9c5a799-7d60-4d17-82e7-f0907a239cc8",
      "metadata": {
        "id": "f9c5a799-7d60-4d17-82e7-f0907a239cc8"
      },
      "outputs": [],
      "source": [
        "from pyspark.sql import SparkSession\n",
        "from pyspark.sql.functions import col,udf\n",
        "from pyspark.ml.feature import Tokenizer, RegexTokenizer\n",
        "from pyspark.sql.types import IntegerType"
      ]
    },
    {
      "cell_type": "code",
      "execution_count": 3,
      "id": "68e7cdb0-de1f-4adb-88cc-0c88fdf832c3",
      "metadata": {
        "id": "68e7cdb0-de1f-4adb-88cc-0c88fdf832c3"
      },
      "outputs": [],
      "source": [
        "spark = SparkSession.builder.appName(\"app\").getOrCreate()"
      ]
    },
    {
      "cell_type": "code",
      "execution_count": 4,
      "id": "6adff305-d6f0-41b6-8790-a942e8add73d",
      "metadata": {
        "id": "6adff305-d6f0-41b6-8790-a942e8add73d"
      },
      "outputs": [],
      "source": [
        "data = [\n",
        "    (0, \"Hi I heard about Spark\"),\n",
        "    (1, \"I wish Java could use case classes\"),\n",
        "    (2, \"Logistic,regression,models,are,neat\")\n",
        "]\n",
        "\n",
        "schema = [\"id\",\"text\"]"
      ]
    },
    {
      "cell_type": "code",
      "execution_count": 6,
      "id": "462eed36-62a3-4a8d-95dd-8486f8560707",
      "metadata": {
        "colab": {
          "base_uri": "https://localhost:8080/"
        },
        "id": "462eed36-62a3-4a8d-95dd-8486f8560707",
        "outputId": "de909c19-ef7e-473a-933a-507aef0ef408"
      },
      "outputs": [
        {
          "output_type": "stream",
          "name": "stdout",
          "text": [
            "+---+--------------------+\n",
            "| id|                text|\n",
            "+---+--------------------+\n",
            "|  0|Hi I heard about ...|\n",
            "|  1|I wish Java could...|\n",
            "|  2|Logistic,regressi...|\n",
            "+---+--------------------+\n",
            "\n"
          ]
        }
      ],
      "source": [
        "data = spark.createDataFrame(data, schema)\n",
        "data.show()"
      ]
    },
    {
      "cell_type": "code",
      "execution_count": null,
      "id": "f2f0d5da-e272-448d-b677-c69de6d61795",
      "metadata": {
        "id": "f2f0d5da-e272-448d-b677-c69de6d61795",
        "outputId": "c2d05e3e-10b2-45a4-f99f-8a06d6796955"
      },
      "outputs": [
        {
          "name": "stdout",
          "output_type": "stream",
          "text": [
            "+---+--------------------+\n",
            "| id|                text|\n",
            "+---+--------------------+\n",
            "|  0|Hi I heard about ...|\n",
            "|  1|I wish Java could...|\n",
            "|  2|Logistic,regressi...|\n",
            "+---+--------------------+\n",
            "\n"
          ]
        }
      ],
      "source": [
        "# data = spark.read.csv(\"data.csv\",inferSchema=True, header=True)\n",
        "# data.show()"
      ]
    },
    {
      "cell_type": "code",
      "execution_count": 7,
      "id": "c99bb7f6-bca5-4db9-9409-c47a73a43769",
      "metadata": {
        "id": "c99bb7f6-bca5-4db9-9409-c47a73a43769"
      },
      "outputs": [],
      "source": [
        "tokenizer = Tokenizer(inputCol='text', outputCol='words')"
      ]
    },
    {
      "cell_type": "code",
      "execution_count": 8,
      "id": "5b4ede36-11fe-4c4a-a870-ebb21d21fd11",
      "metadata": {
        "id": "5b4ede36-11fe-4c4a-a870-ebb21d21fd11"
      },
      "outputs": [],
      "source": [
        "regex_tokenizer = RegexTokenizer(inputCol='text', outputCol='words', pattern='\\\\W')"
      ]
    },
    {
      "cell_type": "code",
      "execution_count": 9,
      "id": "940d1f21-9711-49af-8b42-f3c1837e5c50",
      "metadata": {
        "id": "940d1f21-9711-49af-8b42-f3c1837e5c50"
      },
      "outputs": [],
      "source": [
        "count_tokens = udf(lambda words:len(words), IntegerType())"
      ]
    },
    {
      "cell_type": "code",
      "execution_count": 10,
      "id": "26babce3-496a-4944-8ec7-90d59f09d0ee",
      "metadata": {
        "id": "26babce3-496a-4944-8ec7-90d59f09d0ee"
      },
      "outputs": [],
      "source": [
        "tokenized = tokenizer.transform(data)"
      ]
    },
    {
      "cell_type": "code",
      "execution_count": 11,
      "id": "0db67610-74b0-4448-81fa-ca13f2db0d52",
      "metadata": {
        "colab": {
          "base_uri": "https://localhost:8080/"
        },
        "id": "0db67610-74b0-4448-81fa-ca13f2db0d52",
        "outputId": "f03b2c2d-3ab7-4ab8-d394-79804b0c65d2"
      },
      "outputs": [
        {
          "output_type": "stream",
          "name": "stdout",
          "text": [
            "+---+--------------------+--------------------+\n",
            "| id|                text|               words|\n",
            "+---+--------------------+--------------------+\n",
            "|  0|Hi I heard about ...|[hi, i, heard, ab...|\n",
            "|  1|I wish Java could...|[i, wish, java, c...|\n",
            "|  2|Logistic,regressi...|[logistic,regress...|\n",
            "+---+--------------------+--------------------+\n",
            "\n"
          ]
        }
      ],
      "source": [
        "tokenized.show()"
      ]
    },
    {
      "cell_type": "code",
      "execution_count": 12,
      "id": "e3a41f52-d1f8-4703-ba32-f8eb473dd72d",
      "metadata": {
        "colab": {
          "base_uri": "https://localhost:8080/"
        },
        "id": "e3a41f52-d1f8-4703-ba32-f8eb473dd72d",
        "outputId": "ec778961-36f5-4991-bcd0-d1f4138c3b79"
      },
      "outputs": [
        {
          "output_type": "stream",
          "name": "stdout",
          "text": [
            "+---+--------------------+--------------------+------+\n",
            "| id|                text|               words|tokens|\n",
            "+---+--------------------+--------------------+------+\n",
            "|  0|Hi I heard about ...|[hi, i, heard, ab...|     5|\n",
            "|  1|I wish Java could...|[i, wish, java, c...|     7|\n",
            "|  2|Logistic,regressi...|[logistic,regress...|     1|\n",
            "+---+--------------------+--------------------+------+\n",
            "\n"
          ]
        }
      ],
      "source": [
        "tokenized.withColumn(\"tokens\",count_tokens(col('words'))).show()"
      ]
    },
    {
      "cell_type": "code",
      "execution_count": 13,
      "id": "30c5b1f1-6249-40a1-9117-3578e2ca405c",
      "metadata": {
        "id": "30c5b1f1-6249-40a1-9117-3578e2ca405c"
      },
      "outputs": [],
      "source": [
        "rg_tokenized = regex_tokenizer.transform(data)\n"
      ]
    },
    {
      "cell_type": "code",
      "source": [
        "rg_tokenized.withColumn(\"tokens\",count_tokens(col('words'))).show()"
      ],
      "metadata": {
        "colab": {
          "base_uri": "https://localhost:8080/"
        },
        "id": "ngC5KMt8XBii",
        "outputId": "f8d8a992-b717-4041-f737-ef59ed3a2e21"
      },
      "id": "ngC5KMt8XBii",
      "execution_count": 14,
      "outputs": [
        {
          "output_type": "stream",
          "name": "stdout",
          "text": [
            "+---+--------------------+--------------------+------+\n",
            "| id|                text|               words|tokens|\n",
            "+---+--------------------+--------------------+------+\n",
            "|  0|Hi I heard about ...|[hi, i, heard, ab...|     5|\n",
            "|  1|I wish Java could...|[i, wish, java, c...|     7|\n",
            "|  2|Logistic,regressi...|[logistic, regres...|     5|\n",
            "+---+--------------------+--------------------+------+\n",
            "\n"
          ]
        }
      ]
    },
    {
      "cell_type": "markdown",
      "source": [
        "### StopWords"
      ],
      "metadata": {
        "id": "gYqVDtE2XLk6"
      },
      "id": "gYqVDtE2XLk6"
    },
    {
      "cell_type": "code",
      "source": [
        "from pyspark.ml.feature import StopWordsRemover"
      ],
      "metadata": {
        "id": "6O7mHaUnXC1h"
      },
      "id": "6O7mHaUnXC1h",
      "execution_count": 15,
      "outputs": []
    },
    {
      "cell_type": "code",
      "source": [
        "data = [(0,[\"I\", \"Saw\", \"the\", \"green\" , \"horse\"]),\n",
        "        (1,[\"Mary\", \"had\", \"a\", \"little\", \"lamb\"])]\n",
        "\n",
        "schema = [\"id\", \"tokens\"]"
      ],
      "metadata": {
        "id": "QRKe7Xv9XYWa"
      },
      "id": "QRKe7Xv9XYWa",
      "execution_count": 16,
      "outputs": []
    },
    {
      "cell_type": "code",
      "source": [
        "sentenceDataFrame = spark.createDataFrame(data, schema)"
      ],
      "metadata": {
        "id": "oG6czYkiXVvJ"
      },
      "id": "oG6czYkiXVvJ",
      "execution_count": 17,
      "outputs": []
    },
    {
      "cell_type": "code",
      "source": [
        "sentenceDataFrame.show()"
      ],
      "metadata": {
        "colab": {
          "base_uri": "https://localhost:8080/"
        },
        "id": "0cFvFfY1XpeR",
        "outputId": "2502b0a5-4b4b-4fd8-b039-6ceaeda0f26e"
      },
      "id": "0cFvFfY1XpeR",
      "execution_count": 18,
      "outputs": [
        {
          "output_type": "stream",
          "name": "stdout",
          "text": [
            "+---+--------------------+\n",
            "| id|              tokens|\n",
            "+---+--------------------+\n",
            "|  0|[I, Saw, the, gre...|\n",
            "|  1|[Mary, had, a, li...|\n",
            "+---+--------------------+\n",
            "\n"
          ]
        }
      ]
    },
    {
      "cell_type": "code",
      "source": [
        "remover = StopWordsRemover(inputCol='tokens',outputCol='filtered')"
      ],
      "metadata": {
        "id": "u7Q5DAMCXqzp"
      },
      "id": "u7Q5DAMCXqzp",
      "execution_count": 20,
      "outputs": []
    },
    {
      "cell_type": "code",
      "source": [
        "remover.transform(sentenceDataFrame).show()"
      ],
      "metadata": {
        "colab": {
          "base_uri": "https://localhost:8080/"
        },
        "id": "wlm6GSdxXwyL",
        "outputId": "dc04828c-cd96-4cbf-ab34-36635fcbc8cd"
      },
      "id": "wlm6GSdxXwyL",
      "execution_count": 21,
      "outputs": [
        {
          "output_type": "stream",
          "name": "stdout",
          "text": [
            "+---+--------------------+--------------------+\n",
            "| id|              tokens|            filtered|\n",
            "+---+--------------------+--------------------+\n",
            "|  0|[I, Saw, the, gre...| [Saw, green, horse]|\n",
            "|  1|[Mary, had, a, li...|[Mary, little, lamb]|\n",
            "+---+--------------------+--------------------+\n",
            "\n"
          ]
        }
      ]
    },
    {
      "cell_type": "code",
      "source": [
        "from pyspark.ml.feature import NGram"
      ],
      "metadata": {
        "id": "2A37KhhpX4Jh"
      },
      "id": "2A37KhhpX4Jh",
      "execution_count": 22,
      "outputs": []
    },
    {
      "cell_type": "code",
      "source": [
        "wordDataFrame = spark.createDataFrame([\n",
        "    (0, [\"Hi\", \"I\", \"heard\", \"about\", \"Spark\"]),\n",
        "    (1, [\"I\", \"wish\", \"Java\", \"could\", \"use\", \"case\", \"classes\"]),\n",
        "    (2, [\"Logistic\", \"regression\", \"models\", \"are\", \"neat\"])\n",
        "], [\"id\", \"words\"])"
      ],
      "metadata": {
        "id": "hWZEnhxrZlDH"
      },
      "id": "hWZEnhxrZlDH",
      "execution_count": 23,
      "outputs": []
    },
    {
      "cell_type": "code",
      "source": [
        "ngrams = NGram(n= 2 , inputCol='words', outputCol='grams')"
      ],
      "metadata": {
        "id": "fL1Dip-cZsf3"
      },
      "id": "fL1Dip-cZsf3",
      "execution_count": 25,
      "outputs": []
    },
    {
      "cell_type": "code",
      "source": [
        "ngrams.transform(wordDataFrame).select('grams').show(truncate=False)"
      ],
      "metadata": {
        "colab": {
          "base_uri": "https://localhost:8080/"
        },
        "id": "hl33sdLQZ1Bg",
        "outputId": "371a3108-5e3b-4d36-dbb8-a8bd76b68ee9"
      },
      "id": "hl33sdLQZ1Bg",
      "execution_count": 28,
      "outputs": [
        {
          "output_type": "stream",
          "name": "stdout",
          "text": [
            "+------------------------------------------------------------------+\n",
            "|grams                                                             |\n",
            "+------------------------------------------------------------------+\n",
            "|[Hi I, I heard, heard about, about Spark]                         |\n",
            "|[I wish, wish Java, Java could, could use, use case, case classes]|\n",
            "|[Logistic regression, regression models, models are, are neat]    |\n",
            "+------------------------------------------------------------------+\n",
            "\n"
          ]
        }
      ]
    },
    {
      "cell_type": "code",
      "source": [],
      "metadata": {
        "id": "1qjm91IbZ7cA"
      },
      "id": "1qjm91IbZ7cA",
      "execution_count": null,
      "outputs": []
    }
  ],
  "metadata": {
    "kernelspec": {
      "display_name": "Python 3 (ipykernel)",
      "language": "python",
      "name": "python3"
    },
    "language_info": {
      "codemirror_mode": {
        "name": "ipython",
        "version": 3
      },
      "file_extension": ".py",
      "mimetype": "text/x-python",
      "name": "python",
      "nbconvert_exporter": "python",
      "pygments_lexer": "ipython3",
      "version": "3.9.13"
    },
    "colab": {
      "provenance": []
    }
  },
  "nbformat": 4,
  "nbformat_minor": 5
}