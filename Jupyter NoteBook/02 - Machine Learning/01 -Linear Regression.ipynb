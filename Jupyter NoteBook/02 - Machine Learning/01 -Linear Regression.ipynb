{
 "cells": [
  {
   "cell_type": "markdown",
   "id": "2ce4b276-6443-4e69-8c27-059018e685b7",
   "metadata": {},
   "source": [
    "one of main quirks of using mllib is that you need to format you data so that eventually it just has one or two columns     \n",
    "* Features , Label >> SuperVised\n",
    "* Feature >> UnsuperVised"
   ]
  },
  {
   "cell_type": "code",
   "execution_count": null,
   "id": "c823aac1-5065-47d1-ad22-832ca3c3f2b7",
   "metadata": {},
   "outputs": [],
   "source": []
  }
 ],
 "metadata": {
  "kernelspec": {
   "display_name": "Python 3 (ipykernel)",
   "language": "python",
   "name": "python3"
  },
  "language_info": {
   "codemirror_mode": {
    "name": "ipython",
    "version": 3
   },
   "file_extension": ".py",
   "mimetype": "text/x-python",
   "name": "python",
   "nbconvert_exporter": "python",
   "pygments_lexer": "ipython3",
   "version": "3.9.13"
  }
 },
 "nbformat": 4,
 "nbformat_minor": 5
}
