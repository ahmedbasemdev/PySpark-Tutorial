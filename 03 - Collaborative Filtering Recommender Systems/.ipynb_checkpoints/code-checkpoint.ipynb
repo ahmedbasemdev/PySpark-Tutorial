{
 "cells": [
  {
   "cell_type": "code",
   "execution_count": 5,
   "id": "22ac3491-dbf9-44c8-adc5-dea0fa308029",
   "metadata": {},
   "outputs": [],
   "source": [
    "from pyspark.sql import SparkSession\n",
    "from pyspark.ml.recommendation import ALS\n",
    "from pyspark.ml.evaluation import RegressionEvaluator"
   ]
  },
  {
   "cell_type": "code",
   "execution_count": 3,
   "id": "8818b7c8-6552-42d6-a973-612809afc1b7",
   "metadata": {},
   "outputs": [],
   "source": [
    "spark = SparkSession.builder.appName(\"s\").getOrCreate()"
   ]
  },
  {
   "cell_type": "code",
   "execution_count": 7,
   "id": "3a7c3b22-a0e3-47f3-855e-e9b65c8aa9d1",
   "metadata": {},
   "outputs": [
    {
     "name": "stdout",
     "output_type": "stream",
     "text": [
      "+-------+------+------+\n",
      "|movieId|rating|userId|\n",
      "+-------+------+------+\n",
      "|      2|   3.0|     0|\n",
      "|      3|   1.0|     0|\n",
      "|      5|   2.0|     0|\n",
      "|      9|   4.0|     0|\n",
      "|     11|   1.0|     0|\n",
      "|     12|   2.0|     0|\n",
      "|     15|   1.0|     0|\n",
      "|     17|   1.0|     0|\n",
      "|     19|   1.0|     0|\n",
      "|     21|   1.0|     0|\n",
      "|     23|   1.0|     0|\n",
      "|     26|   3.0|     0|\n",
      "|     27|   1.0|     0|\n",
      "|     28|   1.0|     0|\n",
      "|     29|   1.0|     0|\n",
      "|     30|   1.0|     0|\n",
      "|     31|   1.0|     0|\n",
      "|     34|   1.0|     0|\n",
      "|     37|   1.0|     0|\n",
      "|     41|   2.0|     0|\n",
      "+-------+------+------+\n",
      "only showing top 20 rows\n",
      "\n"
     ]
    }
   ],
   "source": [
    "data = spark.read.csv(\"data/movielens_ratings.csv\", inferSchema=True, header=True)\n",
    "data.show()"
   ]
  },
  {
   "cell_type": "code",
   "execution_count": 8,
   "id": "694e49b1-4c1e-46dc-a097-13b4405b1d7c",
   "metadata": {},
   "outputs": [
    {
     "name": "stdout",
     "output_type": "stream",
     "text": [
      "+-------+------------------+------------------+------------------+\n",
      "|summary|           movieId|            rating|            userId|\n",
      "+-------+------------------+------------------+------------------+\n",
      "|  count|              1501|              1501|              1501|\n",
      "|   mean| 49.40572951365756|1.7741505662891406|14.383744170552964|\n",
      "| stddev|28.937034065088994| 1.187276166124803| 8.591040424293272|\n",
      "|    min|                 0|               1.0|                 0|\n",
      "|    max|                99|               5.0|                29|\n",
      "+-------+------------------+------------------+------------------+\n",
      "\n"
     ]
    }
   ],
   "source": [
    "data.describe().show()"
   ]
  },
  {
   "cell_type": "code",
   "execution_count": 10,
   "id": "cbc4e026-3296-4243-bfa8-542a54636dcc",
   "metadata": {},
   "outputs": [],
   "source": [
    "train_data , test_data = data.randomSplit([0.8,0.2])"
   ]
  },
  {
   "cell_type": "code",
   "execution_count": 13,
   "id": "c6ba542b-923f-4938-ad68-d39906bc10d3",
   "metadata": {},
   "outputs": [],
   "source": [
    "als = ALS(maxIter=5, regParam=0.01, userCol='userId', itemCol='movieId', ratingCol='rating')"
   ]
  },
  {
   "cell_type": "code",
   "execution_count": 15,
   "id": "ab412d7e-d24d-4812-8e91-96372c8a6628",
   "metadata": {},
   "outputs": [],
   "source": [
    "model = als.fit(train_data)"
   ]
  },
  {
   "cell_type": "code",
   "execution_count": 16,
   "id": "38bbbb9e-5639-45f4-bc2f-29d490425c2b",
   "metadata": {},
   "outputs": [],
   "source": [
    "predictions = model.transform(test_data)"
   ]
  },
  {
   "cell_type": "code",
   "execution_count": 18,
   "id": "768a7ce9-7e84-419d-a694-87e33208e9b8",
   "metadata": {},
   "outputs": [
    {
     "name": "stdout",
     "output_type": "stream",
     "text": [
      "+-------+------+------+----------+\n",
      "|movieId|rating|userId|prediction|\n",
      "+-------+------+------+----------+\n",
      "|      0|   1.0|    27|-1.1905532|\n",
      "|      3|   2.0|    22|-0.6544595|\n",
      "|      5|   2.0|    22|0.82052314|\n",
      "|      3|   1.0|     1|0.91495776|\n",
      "|      3|   1.0|    13| 0.3746832|\n",
      "|      2|   1.0|    16|  3.953434|\n",
      "|      8|   3.0|     3|  1.782617|\n",
      "|      2|   2.0|    20| 1.7141496|\n",
      "|      6|   1.0|    20| 2.6021733|\n",
      "|      1|   1.0|     5|  -1.31232|\n",
      "|      4|   1.0|    19|0.78030753|\n",
      "|      2|   4.0|     8| 3.5133426|\n",
      "|      3|   2.0|     8|  0.931447|\n",
      "|      2|   2.0|     7| 3.5080032|\n",
      "|      7|   1.0|     7|  0.729559|\n",
      "|      7|   2.0|    29|-0.2817641|\n",
      "|      9|   1.0|    29| 3.5816035|\n",
      "|      7|   2.0|    21| 3.0297983|\n",
      "|      3|   3.0|    14| 1.2281303|\n",
      "|      5|   1.0|    14| 0.9292115|\n",
      "+-------+------+------+----------+\n",
      "only showing top 20 rows\n",
      "\n"
     ]
    }
   ],
   "source": [
    "predictions.show()"
   ]
  },
  {
   "cell_type": "code",
   "execution_count": 21,
   "id": "95355570-701c-4bb7-aa01-ee2611b2d9d7",
   "metadata": {},
   "outputs": [],
   "source": [
    "evaluator = RegressionEvaluator(metricName='rmse',labelCol='rating',predictionCol='prediction' )"
   ]
  },
  {
   "cell_type": "code",
   "execution_count": 22,
   "id": "412032e9-a1db-4279-93d7-be37d256032c",
   "metadata": {},
   "outputs": [],
   "source": [
    "rmse = evaluator.evaluate(predictions)"
   ]
  },
  {
   "cell_type": "code",
   "execution_count": 24,
   "id": "a7f2eaa0-048b-4af5-860b-3b1dceca9580",
   "metadata": {},
   "outputs": [
    {
     "name": "stdout",
     "output_type": "stream",
     "text": [
      "RMSE \n"
     ]
    },
    {
     "data": {
      "text/plain": [
       "2.3562966628732003"
      ]
     },
     "execution_count": 24,
     "metadata": {},
     "output_type": "execute_result"
    }
   ],
   "source": [
    "print(\"RMSE \")\n",
    "rmse"
   ]
  },
  {
   "cell_type": "code",
   "execution_count": 28,
   "id": "1f4358f3-b5d9-4b67-b8b8-d31c0d683119",
   "metadata": {},
   "outputs": [],
   "source": [
    "single_user = test_data.filter(test_data['userId'] == 11).select(['movieId', 'userId'])"
   ]
  },
  {
   "cell_type": "code",
   "execution_count": 29,
   "id": "ef22beab-68f2-4bc6-ba42-f40a227603f6",
   "metadata": {},
   "outputs": [
    {
     "name": "stdout",
     "output_type": "stream",
     "text": [
      "+-------+------+\n",
      "|movieId|userId|\n",
      "+-------+------+\n",
      "|     11|    11|\n",
      "|     12|    11|\n",
      "|     19|    11|\n",
      "|     27|    11|\n",
      "|     40|    11|\n",
      "|     41|    11|\n",
      "|     45|    11|\n",
      "|     47|    11|\n",
      "|     50|    11|\n",
      "|     61|    11|\n",
      "|     64|    11|\n",
      "|     78|    11|\n",
      "+-------+------+\n",
      "\n"
     ]
    }
   ],
   "source": [
    "single_user.show()"
   ]
  },
  {
   "cell_type": "code",
   "execution_count": 30,
   "id": "8a73e981-f376-4e2b-80e5-d9a5faeb8d25",
   "metadata": {},
   "outputs": [],
   "source": [
    "recommendations = model.transform(single_user)"
   ]
  },
  {
   "cell_type": "code",
   "execution_count": 32,
   "id": "0c80cf01-8d86-456d-954e-e8c62470c34e",
   "metadata": {},
   "outputs": [
    {
     "name": "stdout",
     "output_type": "stream",
     "text": [
      "+-------+------+----------+\n",
      "|movieId|userId|prediction|\n",
      "+-------+------+----------+\n",
      "|     50|    11|  2.602748|\n",
      "|     12|    11| 1.7307085|\n",
      "|     61|    11| 1.3847805|\n",
      "|     45|    11|  0.702728|\n",
      "|     78|    11|0.42081276|\n",
      "|     11|    11|0.39046812|\n",
      "|     64|    11|0.11712353|\n",
      "|     47|    11|-1.6193919|\n",
      "|     19|    11| -1.790624|\n",
      "|     27|    11|-2.0586755|\n",
      "|     41|    11|-2.3042274|\n",
      "|     40|    11|-3.4609132|\n",
      "+-------+------+----------+\n",
      "\n"
     ]
    }
   ],
   "source": [
    "recommendations.orderBy('prediction',ascending=False).show()"
   ]
  },
  {
   "cell_type": "code",
   "execution_count": null,
   "id": "cb1611ec-74da-4d41-b9fa-46c71572b47a",
   "metadata": {},
   "outputs": [],
   "source": []
  }
 ],
 "metadata": {
  "kernelspec": {
   "display_name": "Python 3 (ipykernel)",
   "language": "python",
   "name": "python3"
  },
  "language_info": {
   "codemirror_mode": {
    "name": "ipython",
    "version": 3
   },
   "file_extension": ".py",
   "mimetype": "text/x-python",
   "name": "python",
   "nbconvert_exporter": "python",
   "pygments_lexer": "ipython3",
   "version": "3.9.13"
  }
 },
 "nbformat": 4,
 "nbformat_minor": 5
}
